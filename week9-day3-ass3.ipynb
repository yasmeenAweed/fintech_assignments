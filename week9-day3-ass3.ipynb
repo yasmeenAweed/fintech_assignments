{
 "cells": [
  {
   "cell_type": "code",
   "execution_count": 1,
   "id": "f7ed6700-8852-4af1-9fec-af088cd06a9c",
   "metadata": {},
   "outputs": [],
   "source": [
    "import hashlib\n",
    "import json\n",
    "import time"
   ]
  },
  {
   "cell_type": "code",
   "execution_count": 2,
   "id": "c667ce42-2230-4642-a67e-24a713810a15",
   "metadata": {},
   "outputs": [],
   "source": [
    "tx_1 = {\n",
    "   \"addr_from\": \"3J98t1WpBvBMSNmQviecrnyiWrnqRhWNLy\",\n",
    "   \"addr_to\": \"1BvBMSEYstWetqTFn5Au4m4GFg7xJaNVN2\",   \n",
    "   \"amount\": 99.00\n",
    "}\n",
    "tx_2 = {\n",
    "   \"addr_from\": \"3J98t1WpEZ73CNmQviecrnyiWrnqRhWNLy\",\n",
    "   \"addr_to\": \"1TFn5AuEYstWetqTFn5Au4m4GFg7xJaNVN2\",   \n",
    "   \"amount\": 88.00\n",
    "}\n",
    "tx_3 = {\n",
    "   \"addr_from\": \"pEZ73CNWpEZ73CNmQviecrnyiWrnqRhWNLy\",\n",
    "   \"addr_to\": \"1BvBMSEYstWetqTFn5Au4m4pEZ73CNaNVN2\",   \n",
    "   \"amount\": 77.00\n",
    "}"
   ]
  },
  {
   "cell_type": "code",
   "execution_count": 3,
   "id": "091f8316-3c11-4018-84f8-2166b179f038",
   "metadata": {},
   "outputs": [],
   "source": [
    "class Block():\n",
    "    def __init__(self,index:int=0,\n",
    "            transaction:list=[],\n",
    "            timestamp:int=0,\n",
    "            cur_hash:str='',\n",
    "            previous_hash:str='',\n",
    "            nonce:int=0):\n",
    "    \n",
    "        self.index:int = index\n",
    "        self.transaction:list = transaction\n",
    "        self.timestamp= timestamp\n",
    "        self.hash:str= cur_hash\n",
    "        self.previous_hash:str = previous_hash\n",
    "        self.nonce:int = nonce\n",
    "            \n",
    "            \n",
    "    def compute_hash(self)->str:\n",
    "        block_string=json.dumps(self.__dict__, sort_keys=True)\n",
    "        return hashlib.sha256(block_string.encode()).hexdigest()       "
   ]
  },
  {
   "cell_type": "code",
   "execution_count": 8,
   "id": "ad8ead66-0aea-47d5-899f-ef2d7d64f26d",
   "metadata": {},
   "outputs": [],
   "source": [
    "class Blockchain():  \n",
    "    def __init__(self):\n",
    "        self.unconfirmed_transactions:list[dict] = []\n",
    "        self.chain:List[Block] = []\n",
    "        self.difficulty:int=2\n",
    "        self.create_genesis_block() \n",
    "        \n",
    "    def get_last_block(self):\n",
    "        return self.chain [-1]\n",
    "        \n",
    "    def create_genesis_block(self):\n",
    "            genesis_block = Block(0, [], time.time(), \"0\")\n",
    "            genesis_block.hash = genesis_block.compute_hash()\n",
    "            self.chain.append(genesis_block)\n",
    "        \n",
    "    def proof_of_work(self, block:Block) -> str:\n",
    "            compute_hash = block.compute_hash()\n",
    "            while not computed_hash.startswith('0' * Blockchain.difficulty):\n",
    "                block.nonce += 1\n",
    "                computed_hash = block.compute_hash()\n",
    "                return computed_hash\n",
    "        \n",
    "    def is_valid_proof(self, block:Block, block_hash:str) -> bool:\n",
    "            return block_hash.startswith('0' * Blockchain.difficulty) and block_hash ==block.compute_hash()\n",
    "        \n",
    "    def add_block(self, block:Block, proof:str) -> bool:\n",
    "            last_block = self.last_block()\n",
    "            last_block.hash\n",
    "        \n",
    "            if last_block.current_hash != block.pervious_hash:\n",
    "                return False\n",
    "        \n",
    "            if not is_valid_proof(block, proof):\n",
    "                return False\n",
    "        \n",
    "            block.hash = proof\n",
    "            self.chain.append(block)\n",
    "        \n",
    "            return True\n",
    "        \n",
    "    def add_new_transaction(self, transaction:dict) -> None:\n",
    "            self.unconfirmed_transactions.append(transaction)\n",
    "        \n",
    "    def mine(self) -> int:\n",
    "            if len(self.unconfirmed_transactions)<1:\n",
    "                return -1\n",
    "            last_block = self.get_last_block()\n",
    "            self.unconfirmed_transactions.append(tx_1)\n",
    "            new_block = Block(index= last_block.index+1,\n",
    "                          transactions=self.unconfirmed_transactions,\n",
    "                          timestamp=time.time(),\n",
    "                          previous_hash=last_block.hash)\n",
    "    "
   ]
  },
  {
   "cell_type": "code",
   "execution_count": 13,
   "id": "f0d645b9-ddf5-4558-9a40-25ddeb19cef1",
   "metadata": {},
   "outputs": [],
   "source": [
    "bc= Blockchain()\n",
    "bc.add_new_transaction(tx_1)"
   ]
  },
  {
   "cell_type": "code",
   "execution_count": 14,
   "id": "3610849a-d463-4c38-ae1d-6748e7a2dcb8",
   "metadata": {},
   "outputs": [
    {
     "data": {
      "text/plain": [
       "[{'addr_from': '3J98t1WpBvBMSNmQviecrnyiWrnqRhWNLy',\n",
       "  'addr_to': '1BvBMSEYstWetqTFn5Au4m4GFg7xJaNVN2',\n",
       "  'amount': 99.0}]"
      ]
     },
     "execution_count": 14,
     "metadata": {},
     "output_type": "execute_result"
    }
   ],
   "source": [
    "bc.unconfirmed_transactions"
   ]
  },
  {
   "cell_type": "code",
   "execution_count": 16,
   "id": "a18c3df5-bd86-4307-8f9c-5dcb795f35c5",
   "metadata": {},
   "outputs": [
    {
     "data": {
      "text/plain": [
       "<__main__.Blockchain at 0x1946ed2a9d0>"
      ]
     },
     "execution_count": 16,
     "metadata": {},
     "output_type": "execute_result"
    }
   ],
   "source": [
    "bc.create_genesis_block()\n",
    "bc"
   ]
  },
  {
   "cell_type": "code",
   "execution_count": null,
   "id": "6c9115ac-e8aa-4c0c-bce3-b428cd692cdd",
   "metadata": {},
   "outputs": [],
   "source": []
  }
 ],
 "metadata": {
  "kernelspec": {
   "display_name": "Python 3",
   "language": "python",
   "name": "python3"
  },
  "language_info": {
   "codemirror_mode": {
    "name": "ipython",
    "version": 3
   },
   "file_extension": ".py",
   "mimetype": "text/x-python",
   "name": "python",
   "nbconvert_exporter": "python",
   "pygments_lexer": "ipython3",
   "version": "3.8.8"
  }
 },
 "nbformat": 4,
 "nbformat_minor": 5
}
