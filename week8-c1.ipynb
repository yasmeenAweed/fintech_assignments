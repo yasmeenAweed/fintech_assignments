{
 "cells": [
  {
   "cell_type": "markdown",
   "id": "f47733de-b056-4a55-acac-e7e37b59e3c6",
   "metadata": {},
   "source": [
    "Quantum Stock Picking and Quantum Portfolio Optimization\n",
    "Introduction\n",
    "This assignment will shows how we can use mean-variance optimization to pick stocks for a problem for $n$ assets:\n",
    "\n",
    " \n",
    " \n",
    "where we use the following notation:\n",
    "\n",
    "$x \\in \\{0, 1\\}^n$ denotes the vector of binary decision variables, which indicate which assets to pick ($x[i] = 1$) and which not to pick ($x[i] = 0$),\n",
    "$\\mu \\in \\mathbb{R}^n$ defines the expected returns for the assets,\n",
    "$\\Sigma \\in \\mathbb{R}^{n \\times n}$ specifies the covariances between the assets,\n",
    "$q > 0$ controls the risk appetite of the decision maker,\n",
    "and $B$ denotes the budget, i.e. the number of assets to be selected out of $n$.\n",
    "We assume the following simplifications:\n",
    "\n",
    "all assets have the same price (normalized to 1),\n",
    "the full budget $B$ has to be spent, i.e. one has to select exactly $B$ assets.\n",
    "The equality constraint $1^T x = B$ is mapped to a penalty term $(1^T x - B)^2$ which is scaled by a parameter and subtracted from the objective function. The resulting problem can be mapped to a Hamiltonian whose ground state corresponds to the optimal solution. This notebook shows how to use the Variational Quantum Eigensolver (VQE) to find the optimal solution for a given set of parameters.\n",
    "\n",
    "Experiments on real quantum hardware for this problem are reported for instance in the following paper:\n",
    "Improving Variational Quantum Optimization using CVaR. Barkoutsos et al. 2019.\n",
    "\n",
    "Note: We are not using CVaR as a portfolio statistic here, rather as a heuristic in our VQE procedure, curious students are encouraged to read the paper above.\n",
    "\n",
    "To Students: Complete the following sections labeled todo"
   ]
  },
  {
   "cell_type": "code",
   "execution_count": 1,
   "id": "9c590b29-8bdc-4faf-9c68-bb2098457809",
   "metadata": {},
   "outputs": [],
   "source": [
    "from qiskit import Aer\n",
    "from qiskit.algorithms import VQE, QAOA, NumPyMinimumEigensolver\n",
    "from qiskit.algorithms.optimizers import COBYLA\n",
    "from qiskit.circuit.library import TwoLocal\n",
    "from qiskit.utils import QuantumInstance\n",
    "from qiskit_finance.applications.optimization import PortfolioOptimization\n",
    "from qiskit_finance.data_providers import RandomDataProvider, YahooDataProvider\n",
    "from qiskit_optimization.algorithms import MinimumEigenOptimizer\n",
    "from qiskit_optimization.applications import OptimizationApplication\n",
    "from qiskit_optimization.converters import QuadraticProgramToQubo\n",
    "from qiskit.utils import algorithm_globals\n",
    "\n",
    "import numpy as np\n",
    "import matplotlib.pyplot as plt\n",
    "import datetime\n",
    "import pandas\n",
    "import pandas as pd\n",
    "\n",
    "def index_to_selection(i, num_assets):\n",
    "    s = \"{0:b}\".format(i).rjust(num_assets)\n",
    "    x = np.array([1 if s[i]=='1' else 0 for i in reversed(range(num_assets))])\n",
    "    return x\n",
    "\n",
    "def print_result(result):\n",
    "    selection = result.x\n",
    "    value = result.fval\n",
    "    print('Optimal: selection {}, value {:.4f}'.format(selection, value))\n",
    "    \n",
    "    eigenstate = result.min_eigen_solver_result.eigenstate\n",
    "    eigenvector = eigenstate if isinstance(eigenstate, np.ndarray) else eigenstate.to_matrix()\n",
    "    probabilities = np.abs(eigenvector)**2\n",
    "    i_sorted = reversed(np.argsort(probabilities))\n",
    "    print('\\n----------------- Full result ---------------------')\n",
    "    print('selection\\tvalue\\t\\tprobability')\n",
    "    print('---------------------------------------------------')\n",
    "    for i in i_sorted:\n",
    "        x = index_to_selection(i, num_assets)\n",
    "        value = QuadraticProgramToQubo().convert(qp).objective.evaluate(x)\n",
    "        #value = portfolio.to_quadratic_program().objective.evaluate(x)\n",
    "        probability = probabilities[i]\n",
    "        print('%10s\\t%.4f\\t\\t%.4f' %(x, value, probability))"
   ]
  },
  {
   "cell_type": "code",
   "execution_count": 2,
   "id": "614149f6-b467-4001-9b1b-881aee21e5d2",
   "metadata": {},
   "outputs": [],
   "source": [
    "#global random seed used throuhgout\n",
    "seed = 50"
   ]
  },
  {
   "cell_type": "code",
   "execution_count": 3,
   "id": "4abcc30e-e4f4-4e99-aaa0-b47f38187235",
   "metadata": {},
   "outputs": [],
   "source": [
    "# Generate expected return and covariance matrix from (random) time-series\n",
    "\n",
    "#Todo pick candidate stocks, 3-8 are recommended, stick to 4 if you're going to submit a real quantum experiment to IBM's cloud:\n",
    "\n",
    "stocks = ['IBM','AMD','ACN','NVDA','GOOGL']\n",
    "\n",
    "# Here are some quantum themed stocks :) \n",
    "# ['IBM','AMD','ACN','NVDA','GOOGL','MSFT','AMZN','MU','BABA']\n",
    "# Feel free to pick any in this list or beyond\n",
    "    \n",
    "num_assets = len(stocks)\n",
    "\n",
    "#IBM has done us a favour and provided a cute data provider they designed.\n",
    "data = YahooDataProvider(tickers=stocks,\n",
    "                 start=pandas.Timestamp('2011'),\n",
    "                 end=pandas.Timestamp.now())\n",
    "data.run()\n",
    "\n",
    "# Here we pull apart the IBM qiskit_finance.data_provider internals to retreive our data and format as a pandas DataFrame\n",
    "df = pandas.DataFrame({data._tickers[tidx]:data._data[tidx] for tidx in range(len(data._tickers))})\n",
    "\n",
    "# Provided by IBM\n",
    "mu = data.get_period_return_mean_vector()\n",
    "sigma = data.get_period_return_covariance_matrix()"
   ]
  },
  {
   "cell_type": "code",
   "execution_count": 4,
   "id": "1b1efc29-9fde-44a6-8620-024e639a9fa1",
   "metadata": {},
   "outputs": [
    {
     "data": {
      "text/plain": [
       "\\ This file has been generated by DOcplex\n",
       "\\ ENCODING=ISO-8859-1\n",
       "\\Problem name: Portfolio optimization\n",
       "\n",
       "Minimize\n",
       " obj: - 0.000173278821 x_0 - 0.001710043853 x_1 - 0.000913879910 x_2\n",
       "      - 0.001993143092 x_3 - 0.000945604089 x_4 + [ 0.000206922673 x_0^2\n",
       "      + 0.000302935885 x_0*x_1 + 0.000255254010 x_0*x_2 + 0.000277538653 x_0*x_3\n",
       "      + 0.000201819807 x_0*x_4 + 0.001310729570 x_1^2 + 0.000356990673 x_1*x_2\n",
       "      + 0.000957090280 x_1*x_3 + 0.000343833741 x_1*x_4 + 0.000219573098 x_2^2\n",
       "      + 0.000363234170 x_2*x_3 + 0.000256003925 x_2*x_4 + 0.000713574419 x_3^2\n",
       "      + 0.000412171102 x_3*x_4 + 0.000261395437 x_4^2 ]/2\n",
       "Subject To\n",
       " c0: x_0 + x_1 + x_2 + x_3 + x_4 = 2\n",
       "\n",
       "Bounds\n",
       " 0 <= x_0 <= 1\n",
       " 0 <= x_1 <= 1\n",
       " 0 <= x_2 <= 1\n",
       " 0 <= x_3 <= 1\n",
       " 0 <= x_4 <= 1\n",
       "\n",
       "Binaries\n",
       " x_0 x_1 x_2 x_3 x_4\n",
       "End"
      ]
     },
     "execution_count": 4,
     "metadata": {},
     "output_type": "execute_result"
    }
   ],
   "source": [
    "q = 0.50                   #  risk appetite \n",
    "budget = num_assets  //2   #  stocks to allocate\n",
    "penalty = num_assets       #  set parameter to scale the budget penalty term\n",
    "bounds = None              #  Allocation percent: None: 100%\n",
    "\n",
    "portfolio = PortfolioOptimization(expected_returns=mu, covariances=sigma, risk_factor=q, budget=budget,bounds=bounds)\n",
    "qp = portfolio.to_quadratic_program()\n",
    "qp"
   ]
  },
  {
   "cell_type": "code",
   "execution_count": 5,
   "id": "322eaec8-a8a3-44c2-970e-5b492d6c6e4b",
   "metadata": {},
   "outputs": [],
   "source": [
    "from qiskit import IBMQ\n",
    "IBMQ.save_account('5c33781d92663af7331de331ce08ff8bd032826f125335ad0b30d45f6075f67ef1553af400b5e77a037726da42114e879f132781930cebbe726dbe1c61ab67c6', overwrite=True)"
   ]
  },
  {
   "cell_type": "code",
   "execution_count": 6,
   "id": "250ef2e8-9a0c-4f20-8ed2-a5514a273ada",
   "metadata": {},
   "outputs": [
    {
     "data": {
      "text/plain": [
       "<AccountProvider for IBMQ(hub='ibm-q', group='open', project='main')>"
      ]
     },
     "execution_count": 6,
     "metadata": {},
     "output_type": "execute_result"
    }
   ],
   "source": [
    "IBMQ.load_account()"
   ]
  },
  {
   "cell_type": "code",
   "execution_count": 7,
   "id": "b8d6a1cb-0c01-459b-a0d2-c762f4a8fa47",
   "metadata": {},
   "outputs": [
    {
     "data": {
      "text/plain": [
       "<IBMQBackend('ibmq_armonk') from IBMQ(hub='ibm-q', group='open', project='main')>"
      ]
     },
     "execution_count": 7,
     "metadata": {},
     "output_type": "execute_result"
    }
   ],
   "source": [
    "IBMQ.providers()[0].backends()[1]"
   ]
  },
  {
   "cell_type": "code",
   "execution_count": 8,
   "id": "3b1a0c41-5c3a-4ef7-b8a6-f133aeb325b9",
   "metadata": {},
   "outputs": [
    {
     "data": {
      "text/plain": [
       "<IBMQBackend('ibmq_armonk') from IBMQ(hub='ibm-q', group='open', project='main')>"
      ]
     },
     "execution_count": 8,
     "metadata": {},
     "output_type": "execute_result"
    }
   ],
   "source": [
    "res= IBMQ.providers()[0].backends()[1]\n",
    "res"
   ]
  },
  {
   "cell_type": "markdown",
   "id": "992e55d2-a4b5-461d-bf41-992a7c37711b",
   "metadata": {},
   "source": [
    "Solution using VQE\n",
    "We can now use the Variational Quantum Eigensolver (VQE) to solve the problem. We will specify the optimizer and variational form to be used.\n",
    "\n",
    "Note: You can switch to different backends by providing the name of backend."
   ]
  },
  {
   "cell_type": "code",
   "execution_count": 9,
   "id": "a9bd4351-e8b5-4527-8056-182401145e75",
   "metadata": {},
   "outputs": [
    {
     "name": "stderr",
     "output_type": "stream",
     "text": [
      "/opt/conda/lib/python3.8/site-packages/sympy/core/expr.py:3949: SymPyDeprecationWarning: \n",
      "\n",
      "expr_free_symbols method has been deprecated since SymPy 1.9. See\n",
      "https://github.com/sympy/sympy/issues/21494 for more info.\n",
      "\n",
      "  SymPyDeprecationWarning(feature=\"expr_free_symbols method\",\n"
     ]
    },
    {
     "name": "stdout",
     "output_type": "stream",
     "text": [
      "Optimal: selection [0. 0. 1. 1. 0.], value -0.0023\n",
      "\n",
      "----------------- Full result ---------------------\n",
      "selection\tvalue\t\tprobability\n",
      "---------------------------------------------------\n",
      "[1 0 0 0 1]\t-0.0008\t\t0.3607\n",
      "[1 1 0 0 0]\t-0.0010\t\t0.3094\n",
      "[0 1 1 0 0]\t-0.0017\t\t0.1727\n",
      "[0 0 1 0 1]\t-0.0015\t\t0.1517\n",
      "[0 0 0 1 1]\t-0.0022\t\t0.0026\n",
      "[0 1 0 1 0]\t-0.0022\t\t0.0020\n",
      "[0 0 1 1 1]\t1.0062\t\t0.0002\n",
      "[1 0 1 0 0]\t-0.0007\t\t0.0001\n",
      "[0 1 1 1 0]\t1.0063\t\t0.0001\n",
      "[1 1 0 1 0]\t1.0070\t\t0.0001\n",
      "[0 1 0 0 1]\t-0.0017\t\t0.0001\n",
      "[1 0 0 1 1]\t1.0069\t\t0.0001\n",
      "[0 0 1 0 0]\t1.0082\t\t0.0000\n",
      "[0 0 1 1 0]\t-0.0023\t\t0.0000\n",
      "[1 0 0 0 0]\t1.0089\t\t0.0000\n",
      "[1 0 0 1 0]\t-0.0016\t\t0.0000\n",
      "[1 1 1 0 1]\t4.0339\t\t0.0000\n",
      "[0 1 1 0 1]\t1.0068\t\t0.0000\n",
      "[0 0 0 1 0]\t1.0073\t\t0.0000\n",
      "[1 1 1 1 0]\t4.0335\t\t0.0000\n",
      "[0 1 0 0 0]\t1.0079\t\t0.0000\n",
      "[1 1 1 0 0]\t1.0075\t\t0.0000\n",
      "[0 1 1 1 1]\t4.0329\t\t0.0000\n",
      "[1 1 1 1 1]\t9.0781\t\t0.0000\n",
      "[1 0 1 1 1]\t4.0334\t\t0.0000\n",
      "[1 1 0 1 1]\t4.0335\t\t0.0000\n",
      "[1 1 0 0 1]\t1.0074\t\t0.0000\n",
      "[0 0 0 0 1]\t1.0081\t\t0.0000\n",
      "[0 0 0 0 0]\t4.0358\t\t0.0000\n",
      "[1 0 1 1 0]\t1.0069\t\t0.0000\n",
      "[1 0 1 0 1]\t1.0076\t\t0.0000\n",
      "[0 1 0 1 1]\t1.0063\t\t0.0000\n"
     ]
    }
   ],
   "source": [
    "algorithm_globals.random_seed = seed+1\n",
    "backend = Aer.get_backend('statevector_simulator')\n",
    "#backend = IBMQ.providers()[0].backends()[-1]\n",
    "\n",
    "cobyla = COBYLA()\n",
    "cobyla.set_options(maxiter=500)\n",
    "\n",
    "ry = TwoLocal(num_assets, 'ry', 'cz', reps=3, entanglement='full')\n",
    "\n",
    "quantum_instance = QuantumInstance(backend=backend, seed_simulator=seed, seed_transpiler=seed)\n",
    "\n",
    "vqe_mes = VQE(ry, optimizer=cobyla, quantum_instance=quantum_instance)\n",
    "vqe = MinimumEigenOptimizer(vqe_mes)\n",
    "\n",
    "result = vqe.solve(qp)\n",
    "\n",
    "\n",
    "# print(result.fval)\n",
    "print_result(result)"
   ]
  },
  {
   "cell_type": "code",
   "execution_count": 10,
   "id": "76df78ee-2a5e-47b6-9a11-4da634f75289",
   "metadata": {},
   "outputs": [
    {
     "name": "stdout",
     "output_type": "stream",
     "text": [
      "Stocks from our Qunatum Stock Picking algorthm selected: ['ACN', 'NVDA']\n"
     ]
    }
   ],
   "source": [
    "selected_stocks = list(np.array(stocks)[result.x.astype('bool')])\n",
    "print(f\"Stocks from our Qunatum Stock Picking algorthm selected: {selected_stocks}\")"
   ]
  },
  {
   "cell_type": "markdown",
   "id": "e4045832-b1df-430a-84c7-3891e14d3701",
   "metadata": {},
   "source": [
    "Student todo, complete an equity curve, CAGR and IR comparison for the portfolio of all the stocks you selected for optimization compared to one which your Quantum Stock picker put together\n",
    "hints:\n",
    "\n",
    "df[selected_stocks] contains a data frame with your stock pick prices.\n",
    "df is the full list of stocks you started with."
   ]
  },
  {
   "cell_type": "code",
   "execution_count": 11,
   "id": "f5502ef7-c25d-4fe8-90e0-b4104c19136f",
   "metadata": {},
   "outputs": [
    {
     "name": "stdout",
     "output_type": "stream",
     "text": [
      "IR selection: 1.28\n",
      "IR all: 1.13 \n",
      "\n",
      "CAGR selection: 138.07%\n",
      "CAGR all: 128.49%\n"
     ]
    },
    {
     "data": {
      "image/png": "[encoded data removed]",
      "text/plain": [
       "<Figure size 432x288 with 1 Axes>"
      ]
     },
     "metadata": {
      "needs_background": "light"
     },
     "output_type": "display_data"
    }
   ],
   "source": [
    "all_df = df\n",
    "sel_df = df[selected_stocks]\n",
    "\n",
    "all_df_dr = all_df.pct_change().dropna().mean(axis=1)\n",
    "sel_df_dr = sel_df.pct_change().dropna().mean(axis=1)\n",
    "\n",
    "eq_all = 10000 * all_df_dr.add(1).cumprod()\n",
    "eq_sel = 10000 * sel_df_dr.add(1).cumprod()\n",
    "\n",
    "eq_all.plot()\n",
    "eq_sel.plot()\n",
    "plt.legend(['All','Q-stc-pck-er'])\n",
    "\n",
    "IR_sel = (sel_df_dr.mean() / sel_df_dr.std()) * (252)**0.5 \n",
    "IR_all = (all_df_dr.mean() / all_df_dr.std()) * (252)**0.5 \n",
    "\n",
    "print(f\"IR selection: {round(IR_sel,2)}\")\n",
    "print(f\"IR all: {round(IR_all,2)} \\n\")\n",
    "\n",
    "CAGR_all = 100 * ((eq_all.iloc[-1]/ 10000 )-1) **(252/len(eq_all))\n",
    "CAGR_sel = 100 * ((eq_sel.iloc[-1]/ 10000 )-1) **(252/len(eq_sel))\n",
    "\n",
    "print(f\"CAGR selection: {round(CAGR_sel,2)}%\")\n",
    "print(f\"CAGR all: {round(CAGR_all,2)}%\")"
   ]
  },
  {
   "cell_type": "markdown",
   "id": "b738eac0-acf3-41d4-96db-7b2adaf09d43",
   "metadata": {},
   "source": [
    "(Optional) For Advanced Students:\n",
    "Here we will make some modifications to do portfolio optimization\n",
    "This tutorial shows how to solve the following mean-variance portfolio optimization problem for $n$ assets:\n",
    "\n",
    " \n",
    " \n",
    "where we use the following notation:\n",
    "\n",
    "$x \\in \\{-j, +k\\}^n$ denotes the vector of binary decision variables, which indicate the relative allocation to assign.\n",
    "$\\mu \\in \\mathbb{R}^n$ defines the expected returns for the assets,\n",
    "$\\Sigma \\in \\mathbb{R}^{n \\times n}$ specifies the covariances between the assets,\n",
    "$q > 0$ controls the risk appetite of the decision maker,\n",
    "and $B$ denotes the budget, i.e. the number of assets to be selected out of $n$.\n",
    "We assume the following simplifications:\n",
    "\n",
    "all assets have the same price (normalized to 1),\n",
    "the full budget $B$ has to be spent, i.e. one has to allocate exactly $B$ relative amounts of asset.\n",
    "The equality constraint $1^T x = B$ is mapped to a penalty term $(1^T x - B)^2$ which is scaled by a parameter and subtracted from the objective function. The resulting problem can be mapped to a Hamiltonian whose ground state corresponds to the optimal solution. This rest of this notebook shows how to use the Variational Quantum Eigensolver (VQE) an optimal solution for a given set of parameters."
   ]
  },
  {
   "cell_type": "code",
   "execution_count": 12,
   "id": "77f41cf4-a0af-454a-b444-3d52b42714e1",
   "metadata": {},
   "outputs": [
    {
     "name": "stdout",
     "output_type": "stream",
     "text": [
      "Traceback \u001b[1;36m(most recent call last)\u001b[0m:\n",
      "\u001b[1;36m  File \u001b[1;32m\"/opt/conda/lib/python3.8/site-packages/IPython/core/compilerop.py\"\u001b[1;36m, line \u001b[1;32m101\u001b[1;36m, in \u001b[1;35mast_parse\u001b[1;36m\u001b[0m\n",
      "\u001b[1;33m    return compile(source, filename, symbol, self.flags | PyCF_ONLY_AST, 1)\u001b[0m\n",
      "\u001b[1;36m  File \u001b[1;32m\"/tmp/ipykernel_353/3748023895.py\"\u001b[1;36m, line \u001b[1;32m7\u001b[0m\n",
      "\u001b[1;33m    portfolio = PortfolioOptimization(expected_returns=mu, covariances=sigma, risk_factor=q, budget=budget,bounds=bounds)\u001b[0m\n",
      "\u001b[1;37m              ^\u001b[0m\n",
      "\u001b[1;31mSyntaxError\u001b[0m\u001b[1;31m:\u001b[0m invalid syntax\n",
      "\n",
      "Use %tb to get the full traceback.\n"
     ]
    },
    {
     "data": {
      "text/html": [
       "\n",
       "<style>\n",
       ".button {\n",
       "  border: none;\n",
       "  color: white;\n",
       "  padding: 4px 8px;\n",
       "  text-align: center;\n",
       "  text-decoration: none;\n",
       "  display: inline-block;\n",
       "  font-size: 12px;\n",
       "  margin: 4px 2px;\n",
       "  transition-duration: 0.2s;\n",
       "  cursor: pointer;\n",
       "}\n",
       ".iqx-button {\n",
       "  background-color: #0f62fe; \n",
       "  color: white; \n",
       "}\n",
       ".iqx-button:hover {\n",
       "  background-color: #0043ce;\n",
       "  color: white;\n",
       "}\n",
       "</style>\n",
       "<a href=\"https://stackoverflow.com/search?q=SyntaxError: invalid syntax\" target='_blank'><button class='button iqx-button'>Search for solution online</button></a>\n"
      ],
      "text/plain": [
       "<IPython.core.display.HTML object>"
      ]
     },
     "metadata": {},
     "output_type": "display_data"
    }
   ],
   "source": [
    "q = 0.50                   #  risk appetite \n",
    "budget = num_assets        #  Units to allocate\n",
    "penalty = num_assets //2   #  set parameter to scale the budget penalty term\n",
    "bounds = [(#todo,#todo)]*num_assets  #  Allocation units, can be negative or positive\n",
    "\n",
    "\n",
    "portfolio = PortfolioOptimization(expected_returns=mu, covariances=sigma, risk_factor=q, budget=budget,bounds=bounds)\n",
    "qp = portfolio.to_quadratic_program()\n",
    "qp"
   ]
  },
  {
   "cell_type": "code",
   "execution_count": null,
   "id": "f7aa5c26-863b-4686-9208-0093fafb4ed0",
   "metadata": {},
   "outputs": [],
   "source": [
    "algorithm_globals.random_seed = seed+1\n",
    "backend = Aer.get_backend('statevector_simulator')\n",
    "\n",
    "\n",
    "cobyla = COBYLA()\n",
    "cobyla.set_options(maxiter=500)\n",
    "\n",
    "ry = TwoLocal(num_assets, 'ry', 'cz', reps=3, entanglement='full')\n",
    "\n",
    "quantum_instance = QuantumInstance(backend=backend, seed_simulator=seed, seed_transpiler=seed)\n",
    "\n",
    "vqe_mes = VQE(ry, optimizer=cobyla, quantum_instance=quantum_instance)\n",
    "vqe = MinimumEigenOptimizer(vqe_mes)\n",
    "\n",
    "result = vqe.solve(qp)"
   ]
  },
  {
   "cell_type": "code",
   "execution_count": null,
   "id": "4bad6653-8777-48d2-97a8-f4d73e81a3a7",
   "metadata": {},
   "outputs": [],
   "source": [
    "allocations = pandas.DataFrame({f\"{stocks[tidx]}\":result.x[tidx] for tidx in range(len(stocks))},index=['Allocation'])"
   ]
  },
  {
   "cell_type": "markdown",
   "id": "36efbadd-75f4-4763-a670-cb8270c14148",
   "metadata": {},
   "source": [
    "Student todo, complete an equity curve, CAGR and IR comparison for the a portfolio of all the stocks you selected for optimization compared to one which your Quantum Portfolio Optimzer put together.\n",
    "hints:\n",
    "\n",
    "The variable allocations contains a DataFrame with your relative stock allocations.\n",
    "df is the full list of stocks you started with."
   ]
  },
  {
   "cell_type": "code",
   "execution_count": null,
   "id": "17a9f632-9d2b-4c01-a472-aad041047259",
   "metadata": {},
   "outputs": [],
   "source": []
  }
 ],
 "metadata": {
  "kernelspec": {
   "display_name": "Qiskit v0.32.1 (ipykernel)",
   "language": "python",
   "name": "python3"
  },
  "language_info": {
   "codemirror_mode": {
    "name": "ipython",
    "version": 3
   },
   "file_extension": ".py",
   "mimetype": "text/x-python",
   "name": "python",
   "nbconvert_exporter": "python",
   "pygments_lexer": "ipython3",
   "version": "3.8.10"
  },
  "widgets": {
   "application/vnd.jupyter.widget-state+json": {
    "state": {},
    "version_major": 2,
    "version_minor": 0
   }
  }
 },
 "nbformat": 4,
 "nbformat_minor": 5
}
